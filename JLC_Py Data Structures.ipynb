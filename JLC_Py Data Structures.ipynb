{
 "cells": [
  {
   "cell_type": "markdown",
   "metadata": {},
   "source": [
    "# Python Data Structures\n",
    "- Ints and floats\n",
    "- Str\n",
    "- Lists\n",
    "- Tuples\n",
    "- Dictionaries\n",
    "- Files"
   ]
  },
  {
   "cell_type": "markdown",
   "metadata": {},
   "source": [
    "### Ints and Floats\n",
    "- Depending upon the version of python use of behaviour of ints and floats can differ, we will be using python 3.6"
   ]
  },
  {
   "cell_type": "code",
   "execution_count": 1,
   "metadata": {},
   "outputs": [
    {
     "name": "stdout",
     "output_type": "stream",
     "text": [
      "50000\n",
      "25.5\n"
     ]
    }
   ],
   "source": [
    "income=50000 \n",
    "\n",
    "# #Declare a variable \n",
    "# Call up Value \n",
    "#Rs.50000 - 25 years\n",
    "#Variable is specific and case sensitive\n",
    "\n",
    "print(income)\n",
    "\n",
    "Age= 25.5\n",
    "print (Age)\n"
   ]
  },
  {
   "cell_type": "code",
   "execution_count": 2,
   "metadata": {},
   "outputs": [
    {
     "name": "stdout",
     "output_type": "stream",
     "text": [
      "<class 'int'>\n",
      "<class 'float'>\n"
     ]
    }
   ],
   "source": [
    "# We can know the type of the object by using the type() method\n",
    "print (type(income))\n",
    "print (type(Age))"
   ]
  },
  {
   "cell_type": "code",
   "execution_count": 3,
   "metadata": {},
   "outputs": [],
   "source": [
    "import math"
   ]
  },
  {
   "cell_type": "code",
   "execution_count": 4,
   "metadata": {},
   "outputs": [
    {
     "name": "stdout",
     "output_type": "stream",
     "text": [
      "62500.5\n",
      "<class 'float'>\n"
     ]
    }
   ],
   "source": [
    "\n",
    "Income1=50001\n",
    "Income2=75000\n",
    "\n",
    "Avg = ((Income1+Income2)/2)\n",
    "print(Avg)\n",
    "print(type(Avg))\n",
    "\n",
    "#Variables make code Reproducible"
   ]
  },
  {
   "cell_type": "code",
   "execution_count": 5,
   "metadata": {},
   "outputs": [
    {
     "data": {
      "text/plain": [
       "62500"
      ]
     },
     "execution_count": 5,
     "metadata": {},
     "output_type": "execute_result"
    }
   ],
   "source": [
    "Avg = math.floor(((Income1+Income2)/2))\n",
    "Avg"
   ]
  },
  {
   "cell_type": "code",
   "execution_count": 6,
   "metadata": {},
   "outputs": [
    {
     "data": {
      "text/plain": [
       "62501"
      ]
     },
     "execution_count": 6,
     "metadata": {},
     "output_type": "execute_result"
    }
   ],
   "source": [
    "Avg = math.ceil(((Income1+Income2)/2))\n",
    "Avg"
   ]
  },
  {
   "cell_type": "code",
   "execution_count": 7,
   "metadata": {},
   "outputs": [
    {
     "name": "stdout",
     "output_type": "stream",
     "text": [
      "62501\n"
     ]
    }
   ],
   "source": [
    "print(Avg)"
   ]
  },
  {
   "cell_type": "code",
   "execution_count": 8,
   "metadata": {},
   "outputs": [
    {
     "name": "stdout",
     "output_type": "stream",
     "text": [
      "1\n",
      "<class 'int'>\n"
     ]
    }
   ],
   "source": [
    "print (int(Income2/Income1))\n",
    "print (type(int((Income1/Income2))))\n"
   ]
  },
  {
   "cell_type": "markdown",
   "metadata": {},
   "source": [
    "# Strings and Booleans\n",
    "\n"
   ]
  },
  {
   "cell_type": "code",
   "execution_count": 9,
   "metadata": {},
   "outputs": [
    {
     "name": "stdout",
     "output_type": "stream",
     "text": [
      "<class 'str'>\n"
     ]
    }
   ],
   "source": [
    "Course = \"Data Science with Python\"\n",
    "print(type(Course))"
   ]
  },
  {
   "cell_type": "code",
   "execution_count": 10,
   "metadata": {},
   "outputs": [
    {
     "name": "stdout",
     "output_type": "stream",
     "text": [
      "<class 'bool'>\n"
     ]
    }
   ],
   "source": [
    "Learning = True\n",
    "print(type(Learning))"
   ]
  },
  {
   "cell_type": "code",
   "execution_count": 11,
   "metadata": {},
   "outputs": [
    {
     "data": {
      "text/plain": [
       "11"
      ]
     },
     "execution_count": 11,
     "metadata": {},
     "output_type": "execute_result"
    }
   ],
   "source": [
    "3+8"
   ]
  },
  {
   "cell_type": "code",
   "execution_count": 12,
   "metadata": {
    "scrolled": true
   },
   "outputs": [
    {
     "data": {
      "text/plain": [
       "'DataScience'"
      ]
     },
     "execution_count": 12,
     "metadata": {},
     "output_type": "execute_result"
    }
   ],
   "source": [
    "'Data' + 'Science'"
   ]
  },
  {
   "cell_type": "code",
   "execution_count": 13,
   "metadata": {
    "scrolled": true
   },
   "outputs": [
    {
     "name": "stdout",
     "output_type": "stream",
     "text": [
      "3\n",
      "111\n"
     ]
    }
   ],
   "source": [
    "#the + operator concatenates strings together, while the * concatenates multiple copies of a string together.\n",
    "sample2 = 1 * 3\n",
    "sample3 = \"1\" * 3\n",
    "\n",
    "print(sample2)\n",
    "print(sample3)"
   ]
  },
  {
   "cell_type": "code",
   "execution_count": 14,
   "metadata": {},
   "outputs": [],
   "source": [
    "#Different Types behave differents. Plus works differently on a integer vs. a string"
   ]
  },
  {
   "cell_type": "code",
   "execution_count": 51,
   "metadata": {},
   "outputs": [
    {
     "name": "stdout",
     "output_type": "stream",
     "text": [
      "6\n",
      "can only concatenate str (not \"int\") to str\n",
      "Sumit started with income of Rs.50000. Gradually it was increased to Rs.[['Sumit', 50000], ['Amit', 75000], ['Tina', 65000], ['Heena', 45000], ['Reena', 25000]]. Great!\n",
      "5\n"
     ]
    }
   ],
   "source": [
    "try:\n",
    "    print(2+4)\n",
    "    print(\"Sumit started with income of Rs.\" + Income1 + \". Gradually it was increased to Rs.\" + Income2)\n",
    "    print(4+5)\n",
    "except:\n",
    "    print('can only concatenate str (not \"int\") to str')\n",
    "    print(\"Sumit started with income of Rs.\" + str(Income1) + \". Gradually it was increased to Rs.\" + str(Income2) + (\". Great!\"))\n",
    "print(2+3)"
   ]
  },
  {
   "cell_type": "code",
   "execution_count": 52,
   "metadata": {},
   "outputs": [
    {
     "name": "stdout",
     "output_type": "stream",
     "text": [
      "Sumit started with income of Rs.50000. Gradually it was increased to Rs.[['Sumit', 50000], ['Amit', 75000], ['Tina', 65000], ['Heena', 45000], ['Reena', 25000]]. Great!\n"
     ]
    }
   ],
   "source": [
    "print(\"Sumit started with income of Rs.\" + str(Income1) + \". Gradually it was increased to Rs.\" + str(Income2) + (\". Great!\"))"
   ]
  },
  {
   "cell_type": "code",
   "execution_count": 53,
   "metadata": {},
   "outputs": [
    {
     "data": {
      "text/plain": [
       "str"
      ]
     },
     "execution_count": 53,
     "metadata": {},
     "output_type": "execute_result"
    }
   ],
   "source": [
    "Income = \"10000\"\n",
    "type(Income)"
   ]
  },
  {
   "cell_type": "code",
   "execution_count": 54,
   "metadata": {},
   "outputs": [
    {
     "data": {
      "text/plain": [
       "10000"
      ]
     },
     "execution_count": 54,
     "metadata": {},
     "output_type": "execute_result"
    }
   ],
   "source": [
    "NIncome = int(Income)\n",
    "NIncome"
   ]
  },
  {
   "cell_type": "markdown",
   "metadata": {},
   "source": [
    "# Lists\n"
   ]
  },
  {
   "cell_type": "code",
   "execution_count": 56,
   "metadata": {},
   "outputs": [
    {
     "name": "stdout",
     "output_type": "stream",
     "text": [
      "[50000, 75000, 65000, 45000, 25000]\n"
     ]
    },
    {
     "data": {
      "text/plain": [
       "list"
      ]
     },
     "execution_count": 56,
     "metadata": {},
     "output_type": "execute_result"
    }
   ],
   "source": [
    "#Income of a certain group\n",
    "\n",
    "Income1 = 50000\n",
    "Income2 = 75000\n",
    "Income3 = 65000\n",
    "Income4 = 45000\n",
    "Income5 = 25000\n",
    "\n",
    "Income = [Income1, Income2, Income3, Income4, Income5]\n",
    "print(Income)\n",
    "type(Income)"
   ]
  },
  {
   "cell_type": "code",
   "execution_count": 57,
   "metadata": {},
   "outputs": [
    {
     "data": {
      "text/plain": [
       "['Sumit', 50000, 'Amit', 75000, 'Tina', 65000, 'Heena', 45000, 'Reena', 25000]"
      ]
     },
     "execution_count": 57,
     "metadata": {},
     "output_type": "execute_result"
    }
   ],
   "source": [
    "Income = [\"Sumit\",50000,\"Amit\",75000,\"Tina\",65000,\"Heena\",45000,\"Reena\",25000]\n",
    "Income"
   ]
  },
  {
   "cell_type": "code",
   "execution_count": 58,
   "metadata": {},
   "outputs": [
    {
     "data": {
      "text/plain": [
       "[['Sumit', 50000],\n",
       " ['Amit', 75000],\n",
       " ['Tina', 65000],\n",
       " ['Heena', 45000],\n",
       " ['Reena', 25000]]"
      ]
     },
     "execution_count": 58,
     "metadata": {},
     "output_type": "execute_result"
    }
   ],
   "source": [
    "#Lists can also contain Lists themselves\n",
    "#Instead of putting strings between the number one can create sublists for each Income entry \n",
    "\n",
    "Income2 = [['Sumit',50000],\n",
    "['Amit',75000],\n",
    "['Tina',65000],\n",
    "['Heena',45000],\n",
    "['Reena',25000]]\n",
    "\n",
    "Income2 #The main list contains 5 sub lists\n"
   ]
  },
  {
   "cell_type": "code",
   "execution_count": 59,
   "metadata": {},
   "outputs": [
    {
     "data": {
      "text/plain": [
       "list"
      ]
     },
     "execution_count": 59,
     "metadata": {},
     "output_type": "execute_result"
    }
   ],
   "source": [
    "type(Income)\n",
    "type(Income2)"
   ]
  },
  {
   "cell_type": "code",
   "execution_count": 60,
   "metadata": {},
   "outputs": [
    {
     "data": {
      "text/plain": [
       "65000"
      ]
     },
     "execution_count": 60,
     "metadata": {},
     "output_type": "execute_result"
    }
   ],
   "source": [
    "# Accessing Information from a List - Use Index\n",
    "\n",
    "Income[5] #to access Income corresponding to Tina\n",
    "\n",
    "#Zero Based Indexing"
   ]
  },
  {
   "cell_type": "code",
   "execution_count": 61,
   "metadata": {},
   "outputs": [
    {
     "name": "stdout",
     "output_type": "stream",
     "text": [
      "['Amit', 75000, 'Tina', 65000]\n",
      "['Sumit', 50000, 'Amit', 75000, 'Tina', 65000, 'Heena', 45000, 'Reena', 25000]\n",
      "['Amit', 75000, 'Tina', 65000, 'Heena', 45000, 'Reena', 25000]\n",
      "['Sumit', 50000]\n"
     ]
    },
    {
     "data": {
      "text/plain": [
       "125000"
      ]
     },
     "execution_count": 61,
     "metadata": {},
     "output_type": "execute_result"
    }
   ],
   "source": [
    "#Slicing using :\n",
    "\n",
    "#[start:end]\n",
    "\n",
    "print(Income[2:6])\n",
    "print(Income[:])\n",
    "print(Income[2:])\n",
    "print(Income[:2])\n",
    "\n",
    "#Income of males \n",
    "Income[1] + Income[3]"
   ]
  },
  {
   "cell_type": "code",
   "execution_count": 62,
   "metadata": {},
   "outputs": [
    {
     "data": {
      "text/plain": [
       "135000"
      ]
     },
     "execution_count": 62,
     "metadata": {},
     "output_type": "execute_result"
    }
   ],
   "source": [
    "#Income of females\n",
    "Income[-1] + Income[-3] + Income[-5]"
   ]
  },
  {
   "cell_type": "code",
   "execution_count": 63,
   "metadata": {},
   "outputs": [
    {
     "data": {
      "text/plain": [
       "['Tina', 65000]"
      ]
     },
     "execution_count": 63,
     "metadata": {},
     "output_type": "execute_result"
    }
   ],
   "source": [
    "Income2[2][:]  #Accessing all elements from list of list"
   ]
  },
  {
   "cell_type": "code",
   "execution_count": 64,
   "metadata": {},
   "outputs": [
    {
     "data": {
      "text/plain": [
       "['Sumit', 55000, 'Amit', 75000, 'Tina', 65000, 'Heena', 45000, 'Reena', 25000]"
      ]
     },
     "execution_count": 64,
     "metadata": {},
     "output_type": "execute_result"
    }
   ],
   "source": [
    "#List Manipulations\n",
    "\n",
    "Income[1] = 55000 #Change\n",
    "Income\n"
   ]
  },
  {
   "cell_type": "code",
   "execution_count": 65,
   "metadata": {},
   "outputs": [
    {
     "data": {
      "text/plain": [
       "['Likhit', 60000, 'Amit', 75000, 'Tina', 65000, 'Heena', 45000, 'Reena', 25000]"
      ]
     },
     "execution_count": 65,
     "metadata": {},
     "output_type": "execute_result"
    }
   ],
   "source": [
    "\n",
    "Income[0:2] = ['Likhit',60000]  #Replacing elements\n",
    "Income"
   ]
  },
  {
   "cell_type": "code",
   "execution_count": 66,
   "metadata": {},
   "outputs": [
    {
     "data": {
      "text/plain": [
       "['Likhit',\n",
       " 60000,\n",
       " 'Amit',\n",
       " 75000,\n",
       " 'Tina',\n",
       " 65000,\n",
       " 'Heena',\n",
       " 45000,\n",
       " 'Reena',\n",
       " 25000,\n",
       " 'Sumit',\n",
       " 50000]"
      ]
     },
     "execution_count": 66,
     "metadata": {},
     "output_type": "execute_result"
    }
   ],
   "source": [
    "Income_add = Income + ['Sumit',50000] #Adding elements\n",
    "Income_add"
   ]
  },
  {
   "cell_type": "code",
   "execution_count": 67,
   "metadata": {},
   "outputs": [
    {
     "data": {
      "text/plain": [
       "['Amit', 75000, 'Tina', 65000, 'Heena', 45000, 'Reena', 25000, 'Sumit', 50000]"
      ]
     },
     "execution_count": 67,
     "metadata": {},
     "output_type": "execute_result"
    }
   ],
   "source": [
    "del(Income_add[0:2])  #Deleting an element\n",
    "Income_add"
   ]
  },
  {
   "cell_type": "code",
   "execution_count": 70,
   "metadata": {},
   "outputs": [
    {
     "data": {
      "text/plain": [
       "[11, 18, 20, 10, 9]"
      ]
     },
     "execution_count": 70,
     "metadata": {},
     "output_type": "execute_result"
    }
   ],
   "source": [
    "# Create list Age\n",
    "age = [11, 18, 20, 10, 9]\n",
    "\n",
    "age_new = age\n",
    "age_new"
   ]
  },
  {
   "cell_type": "code",
   "execution_count": 71,
   "metadata": {},
   "outputs": [
    {
     "data": {
      "text/plain": [
       "[11, 24, 20, 10, 9]"
      ]
     },
     "execution_count": 71,
     "metadata": {},
     "output_type": "execute_result"
    }
   ],
   "source": [
    "age_new[1] = 24\n",
    "age_new"
   ]
  },
  {
   "cell_type": "code",
   "execution_count": 72,
   "metadata": {},
   "outputs": [
    {
     "data": {
      "text/plain": [
       "[11, 24, 20, 10, 9]"
      ]
     },
     "execution_count": 72,
     "metadata": {},
     "output_type": "execute_result"
    }
   ],
   "source": [
    "age   #Why is this happening?"
   ]
  },
  {
   "cell_type": "code",
   "execution_count": 73,
   "metadata": {},
   "outputs": [
    {
     "data": {
      "text/plain": [
       "[11, 24, 20, 10, 9]"
      ]
     },
     "execution_count": 73,
     "metadata": {},
     "output_type": "execute_result"
    }
   ],
   "source": [
    "age_new "
   ]
  },
  {
   "cell_type": "code",
   "execution_count": 74,
   "metadata": {},
   "outputs": [
    {
     "data": {
      "text/plain": [
       "[11, 24, 20, 10, 9]"
      ]
     },
     "execution_count": 74,
     "metadata": {},
     "output_type": "execute_result"
    }
   ],
   "source": [
    "age_final = age_new.copy()\n",
    "age_final"
   ]
  },
  {
   "cell_type": "code",
   "execution_count": 75,
   "metadata": {},
   "outputs": [
    {
     "data": {
      "text/plain": [
       "[11, 32, 20, 10, 9]"
      ]
     },
     "execution_count": 75,
     "metadata": {},
     "output_type": "execute_result"
    }
   ],
   "source": [
    "age_final[1] = 32\n",
    "age_final"
   ]
  },
  {
   "cell_type": "code",
   "execution_count": 76,
   "metadata": {},
   "outputs": [
    {
     "data": {
      "text/plain": [
       "[11, 24, 20, 10, 9]"
      ]
     },
     "execution_count": 76,
     "metadata": {},
     "output_type": "execute_result"
    }
   ],
   "source": [
    "age_new"
   ]
  },
  {
   "cell_type": "code",
   "execution_count": 77,
   "metadata": {},
   "outputs": [
    {
     "name": "stdout",
     "output_type": "stream",
     "text": [
      "[11, 24, 20, 10, 9]\n",
      "[11, 32, 20, 10, 9]\n",
      "[11, 24, 20, 10, 9]\n"
     ]
    }
   ],
   "source": [
    "age_final = age_new[:]\n",
    "print(age_final)\n",
    "age_final[1] = 32\n",
    "print(age_final)\n",
    "print(age_new)"
   ]
  },
  {
   "cell_type": "code",
   "execution_count": 39,
   "metadata": {
    "scrolled": true
   },
   "outputs": [
    {
     "name": "stdout",
     "output_type": "stream",
     "text": [
      "['__add__', '__class__', '__contains__', '__delattr__', '__delitem__', '__dir__', '__doc__', '__eq__', '__format__', '__ge__', '__getattribute__', '__getitem__', '__gt__', '__hash__', '__iadd__', '__imul__', '__init__', '__init_subclass__', '__iter__', '__le__', '__len__', '__lt__', '__mul__', '__ne__', '__new__', '__reduce__', '__reduce_ex__', '__repr__', '__reversed__', '__rmul__', '__setattr__', '__setitem__', '__sizeof__', '__str__', '__subclasshook__', 'append', 'clear', 'copy', 'count', 'extend', 'index', 'insert', 'pop', 'remove', 'reverse', 'sort']\n",
      "['__abs__', '__add__', '__bool__', '__class__', '__delattr__', '__dir__', '__divmod__', '__doc__', '__eq__', '__float__', '__floordiv__', '__format__', '__ge__', '__getattribute__', '__getformat__', '__getnewargs__', '__gt__', '__hash__', '__init__', '__init_subclass__', '__int__', '__le__', '__lt__', '__mod__', '__mul__', '__ne__', '__neg__', '__new__', '__pos__', '__pow__', '__radd__', '__rdivmod__', '__reduce__', '__reduce_ex__', '__repr__', '__rfloordiv__', '__rmod__', '__rmul__', '__round__', '__rpow__', '__rsub__', '__rtruediv__', '__set_format__', '__setattr__', '__sizeof__', '__str__', '__sub__', '__subclasshook__', '__truediv__', '__trunc__', 'as_integer_ratio', 'conjugate', 'fromhex', 'hex', 'imag', 'is_integer', 'real']\n"
     ]
    }
   ],
   "source": [
    "#We can know about the methods available in the respective python classes by using the dir() method\n",
    "print (dir(Income))\n",
    "print (dir(Age))"
   ]
  },
  {
   "cell_type": "code",
   "execution_count": 78,
   "metadata": {
    "scrolled": true
   },
   "outputs": [
    {
     "name": "stdout",
     "output_type": "stream",
     "text": [
      "<class 'float'>\n",
      "10\n"
     ]
    },
    {
     "data": {
      "text/plain": [
       "1"
      ]
     },
     "execution_count": 78,
     "metadata": {},
     "output_type": "execute_result"
    }
   ],
   "source": [
    "#Functions in Python\n",
    "\n",
    "Python = True\n",
    "\n",
    "# Print out type of var\n",
    "print(type(Age))\n",
    "\n",
    "# Print out length of var\n",
    "print(len(Income))\n",
    "\n",
    "# Convert var to an integer: out2\n",
    "IntPy = int(Python)\n",
    "IntPy\n"
   ]
  },
  {
   "cell_type": "code",
   "execution_count": 79,
   "metadata": {
    "scrolled": false
   },
   "outputs": [
    {
     "name": "stdout",
     "output_type": "stream",
     "text": [
      "[25, 65, 34, 44, 10, 50]\n",
      "[10, 25, 34, 44, 50, 65]\n",
      "[65, 50, 44, 34, 25, 10]\n"
     ]
    }
   ],
   "source": [
    "# Create lists \n",
    "Age1 = [25,65,34,44]\n",
    "Age2 = [10,50]\n",
    "\n",
    "# Paste together \n",
    "Age_f = Age1 + Age2\n",
    "print(Age_f)\n",
    "# Sort in descending order\n",
    "Age_full = sorted(Age_f) #ascending\n",
    "Age_FULL = sorted(Age_f, reverse = True) # descending\n",
    "\n",
    "# Print out full_sorted\n",
    "print(Age_full)\n",
    "print(Age_FULL)"
   ]
  },
  {
   "cell_type": "code",
   "execution_count": 42,
   "metadata": {},
   "outputs": [
    {
     "name": "stdout",
     "output_type": "stream",
     "text": [
      "Help on built-in function sorted in module builtins:\n",
      "\n",
      "sorted(iterable, /, *, key=None, reverse=False)\n",
      "    Return a new list containing all items from the iterable in ascending order.\n",
      "    \n",
      "    A custom key function can be supplied to customize the sort order, and the\n",
      "    reverse flag can be set to request the result in descending order.\n",
      "\n"
     ]
    }
   ],
   "source": [
    "help(sorted)"
   ]
  },
  {
   "cell_type": "markdown",
   "metadata": {},
   "source": [
    "# Methods"
   ]
  },
  {
   "cell_type": "code",
   "execution_count": 80,
   "metadata": {},
   "outputs": [
    {
     "data": {
      "text/plain": [
       "6"
      ]
     },
     "execution_count": 80,
     "metadata": {},
     "output_type": "execute_result"
    }
   ],
   "source": [
    "Income.index('Heena')      #Index is a method"
   ]
  },
  {
   "cell_type": "code",
   "execution_count": 81,
   "metadata": {},
   "outputs": [
    {
     "name": "stdout",
     "output_type": "stream",
     "text": [
      "PYTHON\n",
      "python course\n"
     ]
    }
   ],
   "source": [
    "Word = \"python\"\n",
    "print(Word.upper())\n",
    "print(Word.replace(\"n\",\"n course\"))\n"
   ]
  },
  {
   "cell_type": "code",
   "execution_count": 45,
   "metadata": {},
   "outputs": [
    {
     "ename": "AttributeError",
     "evalue": "'list' object has no attribute 'replace'",
     "output_type": "error",
     "traceback": [
      "\u001b[1;31m---------------------------------------------------------------------------\u001b[0m",
      "\u001b[1;31mAttributeError\u001b[0m                            Traceback (most recent call last)",
      "\u001b[1;32m<ipython-input-45-71ab9b75f798>\u001b[0m in \u001b[0;36m<module>\u001b[1;34m\u001b[0m\n\u001b[1;32m----> 1\u001b[1;33m \u001b[0mIncome\u001b[0m\u001b[1;33m.\u001b[0m\u001b[0mreplace\u001b[0m\u001b[1;33m(\u001b[0m\u001b[1;36m50000\u001b[0m\u001b[1;33m,\u001b[0m\u001b[1;36m45000\u001b[0m\u001b[1;33m)\u001b[0m      \u001b[1;31m#replace is not a method for num/int/float objects\u001b[0m\u001b[1;33m\u001b[0m\u001b[1;33m\u001b[0m\u001b[0m\n\u001b[0m",
      "\u001b[1;31mAttributeError\u001b[0m: 'list' object has no attribute 'replace'"
     ]
    }
   ],
   "source": [
    "Income.replace(50000,45000)      #replace is not a method for num/int/float objects"
   ]
  },
  {
   "cell_type": "code",
   "execution_count": 83,
   "metadata": {},
   "outputs": [
    {
     "ename": "AttributeError",
     "evalue": "'list' object has no attribute 'replace'",
     "output_type": "error",
     "traceback": [
      "\u001b[1;31m---------------------------------------------------------------------------\u001b[0m",
      "\u001b[1;31mAttributeError\u001b[0m                            Traceback (most recent call last)",
      "\u001b[1;32m<ipython-input-83-613c5db3002a>\u001b[0m in \u001b[0;36m<module>\u001b[1;34m\u001b[0m\n\u001b[1;32m----> 1\u001b[1;33m \u001b[0mIncome\u001b[0m\u001b[1;33m.\u001b[0m\u001b[0mreplace\u001b[0m\u001b[1;33m\u001b[0m\u001b[1;33m\u001b[0m\u001b[0m\n\u001b[0m",
      "\u001b[1;31mAttributeError\u001b[0m: 'list' object has no attribute 'replace'"
     ]
    }
   ],
   "source": [
    "Income.replace"
   ]
  },
  {
   "cell_type": "code",
   "execution_count": 84,
   "metadata": {},
   "outputs": [
    {
     "data": {
      "text/plain": [
       "7"
      ]
     },
     "execution_count": 84,
     "metadata": {},
     "output_type": "execute_result"
    }
   ],
   "source": [
    "Income.index(45000)"
   ]
  },
  {
   "cell_type": "code",
   "execution_count": 85,
   "metadata": {},
   "outputs": [
    {
     "data": {
      "text/plain": [
       "2"
      ]
     },
     "execution_count": 85,
     "metadata": {},
     "output_type": "execute_result"
    }
   ],
   "source": [
    "Word.index('t')"
   ]
  },
  {
   "cell_type": "code",
   "execution_count": 86,
   "metadata": {},
   "outputs": [
    {
     "data": {
      "text/plain": [
       "['Likhit',\n",
       " 60000,\n",
       " 'Amit',\n",
       " 75000,\n",
       " 'Tina',\n",
       " 65000,\n",
       " 'Heena',\n",
       " 45000,\n",
       " 'Reena',\n",
       " 25000,\n",
       " 'Raina']"
      ]
     },
     "execution_count": 86,
     "metadata": {},
     "output_type": "execute_result"
    }
   ],
   "source": [
    "Income.append(\"Raina\")\n",
    "Income"
   ]
  },
  {
   "cell_type": "code",
   "execution_count": 87,
   "metadata": {},
   "outputs": [
    {
     "name": "stdout",
     "output_type": "stream",
     "text": [
      "2\n"
     ]
    }
   ],
   "source": [
    "Sample = \"Beautiful\"\n",
    "print(Sample.count(\"u\"))"
   ]
  },
  {
   "cell_type": "code",
   "execution_count": 88,
   "metadata": {},
   "outputs": [
    {
     "name": "stdout",
     "output_type": "stream",
     "text": [
      "1\n"
     ]
    }
   ],
   "source": [
    "# Print out how often 25000 appears in Income\n",
    "print(Income.count(25000))"
   ]
  },
  {
   "cell_type": "code",
   "execution_count": 89,
   "metadata": {},
   "outputs": [
    {
     "name": "stdout",
     "output_type": "stream",
     "text": [
      "range(0, 11)\n",
      "[0, 1, 2, 3, 4, 5, 6, 7, 8, 9, 10]\n"
     ]
    }
   ],
   "source": [
    "c=range(11)\n",
    "print(c)\n",
    "print (list(c))"
   ]
  },
  {
   "cell_type": "markdown",
   "metadata": {},
   "source": [
    "# Case Study\n",
    "\n",
    "### Strings\n",
    "- Strings as iterables\n"
   ]
  },
  {
   "cell_type": "code",
   "execution_count": 90,
   "metadata": {},
   "outputs": [],
   "source": [
    "w=\"Two 1234567890Shōkaku-class aircraft carriers, Shōkaku and Zuikaku, were commissioned by the Imperial Japanese Navy during World War II. They participated in the attack on Pearl Harbor, the Indian Ocean Raid, and the battles of the Coral Sea, the Eastern Solomons, and the Santa Cruz Islands. Their air groups sank two of the four fleet carriers lost by the United States Navy during the war in addition to one elderly British light carrier. Returning to Japan after the Battle of the Coral Sea to repair damage and replace lost aircraft, they missed the Battle of Midway in June 1942. After the catastrophic loss of four carriers during that battle, they formed the bulk of Japan's carrier force for the rest of the war. Shōkaku was sunk by an American submarine during the Battle of the Philippine Sea in June 1944 as the Americans invaded the Mariana Islands, and Zuikaku was sacrificed as part of a decoy force four months later in the Battle of Leyte Gulf, both with heavy loss of life. Historian Mark Peattie called them 'arguably the best aircraft carriers' of the early 1940s.\""
   ]
  },
  {
   "cell_type": "code",
   "execution_count": 91,
   "metadata": {},
   "outputs": [
    {
     "name": "stdout",
     "output_type": "stream",
     "text": [
      "Two 1234567890Shōkaku-class aircraft carriers, Shōkaku and Zuikaku, were commissioned by the Imperial Japanese Navy during World War II. They participated in the attack on Pearl Harbor, the Indian Ocean Raid, and the battles of the Coral Sea, the Eastern Solomons, and the Santa Cruz Islands. Their air groups sank two of the four fleet carriers lost by the United States Navy during the war in addition to one elderly British light carrier. Returning to Japan after the Battle of the Coral Sea to repair damage and replace lost aircraft, they missed the Battle of Midway in June 1942. After the catastrophic loss of four carriers during that battle, they formed the bulk of Japan's carrier force for the rest of the war. Shōkaku was sunk by an American submarine during the Battle of the Philippine Sea in June 1944 as the Americans invaded the Mariana Islands, and Zuikaku was sacrificed as part of a decoy force four months later in the Battle of Leyte Gulf, both with heavy loss of life. Historian Mark Peattie called them 'arguably the best aircraft carriers' of the early 1940s.\n"
     ]
    }
   ],
   "source": [
    "print (w)"
   ]
  },
  {
   "cell_type": "code",
   "execution_count": 92,
   "metadata": {},
   "outputs": [
    {
     "name": "stdout",
     "output_type": "stream",
     "text": [
      "T\n",
      "w\n",
      "o\n",
      " \n",
      "1\n",
      "2\n",
      "3\n",
      "4\n",
      "5\n",
      "6\n",
      "7\n",
      "8\n",
      "9\n",
      "0\n",
      "S\n",
      "h\n",
      "ō\n",
      "k\n",
      "a\n",
      "k\n"
     ]
    }
   ],
   "source": [
    "# All iterables can be looped through\n",
    "for c in w[0:20]:\n",
    "      print (c)"
   ]
  },
  {
   "cell_type": "markdown",
   "metadata": {},
   "source": [
    "### Looping and conditionals interlude\n",
    "- Using for loops and if-else statements\n"
   ]
  },
  {
   "cell_type": "code",
   "execution_count": 94,
   "metadata": {},
   "outputs": [
    {
     "name": "stdout",
     "output_type": "stream",
     "text": [
      "Is it possible?\n"
     ]
    }
   ],
   "source": [
    "# We can control the flow of execution of code by using conditionals such as if-else\n",
    "if 2<3:#Notice that a statement is followed by a :\n",
    "    print ('Is it possible?')\n",
    "    \n",
    "else:\n",
    "    print ('Yay!!')"
   ]
  },
  {
   "cell_type": "markdown",
   "metadata": {},
   "source": [
    "### Case Study\n",
    "- Use the assign_txt\n",
    "- Count number of capital letters\n",
    "- How many times has the word RSS occured?\n",
    "- How many times has the word Modi occured?"
   ]
  },
  {
   "cell_type": "code",
   "execution_count": 106,
   "metadata": {},
   "outputs": [],
   "source": [
    "assign_txt=\"Narendra Damodardas Modi (RSS RSS, R r Modi), born 17 September 1950) is the 15th and current Prime Minister of India, in office since 26 May 2014.odi, a leader of the Bharatiya Janata Party was the Chief Minister of Gujarat from 2001 to 2014 and is the Member of Parliament from Varanasi. He led the BJP in the 2014 general election, which gave the party a majority in the Lok Sabha, the first for any political party in India since 1984.As the Chief Minister of Gujarat, Modi's economic policies were praised, while his administration was also criticised for failing to significantly improve the human development in the state, and for failing to prevent the 2002 Gujarat riots. A Hindu nationalist and member of the Rashtriya Swayamsevak Sangh, Modi,remains a controversial figure domestically and internationally. Modi was born on 17 September 1950, to a family of grocers in Vadnagar, Mehsana district, Bombay State (present-day Gujarat).Modi's family belonged to the Modh-Ghanchi-Teli (oil-presser) community,hich is categorised as an Other Backward Class by the Indian government.Modi was the third of six children born to Damodardas Mulchand (1915–1989) and Heeraben Modi (b. c. 1920).As a child, Modi helped his father sell tea at the Vadnagar railway station, and later ran a tea stall with his brother near a bus terminus.Modi completed his higher secondary education in Vadnagar in 1967, where a teacher described him as an average student and a keen debater, with an interest in theatre.Modi had an early gift for rhetoric in debates, and this was noted by his teachers and students.Modi preferred playing larger-than-life characters in theatrical productions, which has influenced his political image.At age eight, Modi discovered the Rashtriya Swayamsevak Sangh (RSS), and began attending its local shakhas (training sessions). There, Modi met Lakshmanrao Inamdar, popularly known as Vakil Saheb, who inducted him as an RSS balswayamsevak (junior cadet) and became his political mentor.While Modi was training with the RSS, he also met Vasant Gajendragadkar and Nathalal Jaghda, Bharatiya Jana Sangh leaders who were founding members of the BJP's Gujarat unit in 1980.Engaged while still a child to a local girl, Jashodaben Narendrabhai Modi, Modi rejected the arranged marriage at the same time he graduated from high school.The resulting familial tensions contributed to his decision to leave home in 1967.Modi spent the ensuing two years travelling across Northern and North-eastern India, though few details of where he went have emerged.In interviews, Modi has described visiting Hindu ashrams founded by Swami Vivekananda: the Belur Math near Kolkata, followed by the Advaita Ashrama in Almora and the Ramakrishna mission in Rajkot. Modi remained only a short time at each, since he lacked the required college education.\""
   ]
  },
  {
   "cell_type": "code",
   "execution_count": 100,
   "metadata": {},
   "outputs": [
    {
     "name": "stdout",
     "output_type": "stream",
     "text": [
      "5\n"
     ]
    }
   ],
   "source": [
    "print (assign_txt.count('RSS'))"
   ]
  },
  {
   "cell_type": "code",
   "execution_count": 101,
   "metadata": {},
   "outputs": [
    {
     "name": "stdout",
     "output_type": "stream",
     "text": [
      "20\n"
     ]
    }
   ],
   "source": [
    "print (assign_txt.count('Modi'))"
   ]
  },
  {
   "cell_type": "code",
   "execution_count": 102,
   "metadata": {},
   "outputs": [
    {
     "data": {
      "text/plain": [
       "str"
      ]
     },
     "execution_count": 102,
     "metadata": {},
     "output_type": "execute_result"
    }
   ],
   "source": [
    "type(assign_txt)"
   ]
  },
  {
   "cell_type": "code",
   "execution_count": 107,
   "metadata": {},
   "outputs": [
    {
     "name": "stdout",
     "output_type": "stream",
     "text": [
      "10\n",
      "147\n"
     ]
    }
   ],
   "source": [
    "c=0\n",
    "d=0\n",
    "for l in assign_txt:           \n",
    "    if l.isupper():\n",
    "        if l == 'R':\n",
    "            c = c+1\n",
    "    if l.islower():\n",
    "        if l =='r':\n",
    "            d=d+1\n",
    "      \n",
    "print (c)\n",
    "print (d)\n"
   ]
  },
  {
   "cell_type": "markdown",
   "metadata": {},
   "source": [
    "### Case Study\n",
    "- Use the assign_txt\n",
    "- Find out the total number of lines in assign_txt (Use the split() method to create a list, assume \".\" to be EOL)\n",
    "- Extract the years like 1950 from the text and count their occurence"
   ]
  },
  {
   "cell_type": "code",
   "execution_count": 108,
   "metadata": {},
   "outputs": [
    {
     "data": {
      "text/plain": [
       "\"Narendra Damodardas Modi (RSS RSS, R r Modi), born 17 September 1950) is the 15th and current Prime Minister of India, in office since 26 May 2014.odi, a leader of the Bharatiya Janata Party was the Chief Minister of Gujarat from 2001 to 2014 and is the Member of Parliament from Varanasi. He led the BJP in the 2014 general election, which gave the party a majority in the Lok Sabha, the first for any political party in India since 1984.As the Chief Minister of Gujarat, Modi's economic policies were praised, while his administration was also criticised for failing to significantly improve the human development in the state, and for failing to prevent the 2002 Gujarat riots. A Hindu nationalist and member of the Rashtriya Swayamsevak Sangh, Modi,remains a controversial figure domestically and internationally. Modi was born on 17 September 1950, to a family of grocers in Vadnagar, Mehsana district, Bombay State (present-day Gujarat).Modi's family belonged to the Modh-Ghanchi-Teli (oil-presser) community,hich is categorised as an Other Backward Class by the Indian government.Modi was the third of six children born to Damodardas Mulchand (1915–1989) and Heeraben Modi (b. c. 1920).As a child, Modi helped his father sell tea at the Vadnagar railway station, and later ran a tea stall with his brother near a bus terminus.Modi completed his higher secondary education in Vadnagar in 1967, where a teacher described him as an average student and a keen debater, with an interest in theatre.Modi had an early gift for rhetoric in debates, and this was noted by his teachers and students.Modi preferred playing larger-than-life characters in theatrical productions, which has influenced his political image.At age eight, Modi discovered the Rashtriya Swayamsevak Sangh (RSS), and began attending its local shakhas (training sessions). There, Modi met Lakshmanrao Inamdar, popularly known as Vakil Saheb, who inducted him as an RSS balswayamsevak (junior cadet) and became his political mentor.While Modi was training with the RSS, he also met Vasant Gajendragadkar and Nathalal Jaghda, Bharatiya Jana Sangh leaders who were founding members of the BJP's Gujarat unit in 1980.Engaged while still a child to a local girl, Jashodaben Narendrabhai Modi, Modi rejected the arranged marriage at the same time he graduated from high school.The resulting familial tensions contributed to his decision to leave home in 1967.Modi spent the ensuing two years travelling across Northern and North-eastern India, though few details of where he went have emerged.In interviews, Modi has described visiting Hindu ashrams founded by Swami Vivekananda: the Belur Math near Kolkata, followed by the Advaita Ashrama in Almora and the Ramakrishna mission in Rajkot. Modi remained only a short time at each, since he lacked the required college education.\""
      ]
     },
     "execution_count": 108,
     "metadata": {},
     "output_type": "execute_result"
    }
   ],
   "source": [
    "assign_txt "
   ]
  },
  {
   "cell_type": "code",
   "execution_count": 109,
   "metadata": {},
   "outputs": [
    {
     "name": "stdout",
     "output_type": "stream",
     "text": [
      "['__add__', '__class__', '__contains__', '__delattr__', '__dir__', '__doc__', '__eq__', '__format__', '__ge__', '__getattribute__', '__getitem__', '__getnewargs__', '__gt__', '__hash__', '__init__', '__init_subclass__', '__iter__', '__le__', '__len__', '__lt__', '__mod__', '__mul__', '__ne__', '__new__', '__reduce__', '__reduce_ex__', '__repr__', '__rmod__', '__rmul__', '__setattr__', '__sizeof__', '__str__', '__subclasshook__', 'capitalize', 'casefold', 'center', 'count', 'encode', 'endswith', 'expandtabs', 'find', 'format', 'format_map', 'index', 'isalnum', 'isalpha', 'isascii', 'isdecimal', 'isdigit', 'isidentifier', 'islower', 'isnumeric', 'isprintable', 'isspace', 'istitle', 'isupper', 'join', 'ljust', 'lower', 'lstrip', 'maketrans', 'partition', 'replace', 'rfind', 'rindex', 'rjust', 'rpartition', 'rsplit', 'rstrip', 'split', 'splitlines', 'startswith', 'strip', 'swapcase', 'title', 'translate', 'upper', 'zfill']\n"
     ]
    }
   ],
   "source": [
    "print(dir(assign_txt))"
   ]
  },
  {
   "cell_type": "code",
   "execution_count": 110,
   "metadata": {},
   "outputs": [],
   "source": [
    "?assign_txt.split"
   ]
  },
  {
   "cell_type": "code",
   "execution_count": 111,
   "metadata": {},
   "outputs": [
    {
     "data": {
      "text/plain": [
       "23"
      ]
     },
     "execution_count": 111,
     "metadata": {},
     "output_type": "execute_result"
    }
   ],
   "source": [
    "len(assign_txt.split(\".\"))"
   ]
  },
  {
   "cell_type": "code",
   "execution_count": 112,
   "metadata": {},
   "outputs": [
    {
     "name": "stdout",
     "output_type": "stream",
     "text": [
      "['Narendra', 'Damodardas', 'Modi', '(RSS', 'RSS,', 'R', 'r', 'Modi),', 'born', '17', 'September', '1950)', 'is', 'the', '15th', 'and', 'current', 'Prime', 'Minister', 'of', 'India,', 'in', 'office', 'since', '26', 'May', '2014.odi,', 'a', 'leader', 'of', 'the', 'Bharatiya', 'Janata', 'Party', 'was', 'the', 'Chief', 'Minister', 'of', 'Gujarat', 'from', '2001', 'to', '2014', 'and', 'is', 'the', 'Member', 'of', 'Parliament', 'from', 'Varanasi.', 'He', 'led', 'the', 'BJP', 'in', 'the', '2014', 'general', 'election,', 'which', 'gave', 'the', 'party', 'a', 'majority', 'in', 'the', 'Lok', 'Sabha,', 'the', 'first', 'for', 'any', 'political', 'party', 'in', 'India', 'since', '1984.As', 'the', 'Chief', 'Minister', 'of', 'Gujarat,', \"Modi's\", 'economic', 'policies', 'were', 'praised,', 'while', 'his', 'administration', 'was', 'also', 'criticised', 'for', 'failing', 'to', 'significantly', 'improve', 'the', 'human', 'development', 'in', 'the', 'state,', 'and', 'for', 'failing', 'to', 'prevent', 'the', '2002', 'Gujarat', 'riots.', 'A', 'Hindu', 'nationalist', 'and', 'member', 'of', 'the', 'Rashtriya', 'Swayamsevak', 'Sangh,', 'Modi,remains', 'a', 'controversial', 'figure', 'domestically', 'and', 'internationally.', 'Modi', 'was', 'born', 'on', '17', 'September', '1950,', 'to', 'a', 'family', 'of', 'grocers', 'in', 'Vadnagar,', 'Mehsana', 'district,', 'Bombay', 'State', '(present-day', \"Gujarat).Modi's\", 'family', 'belonged', 'to', 'the', 'Modh-Ghanchi-Teli', '(oil-presser)', 'community,hich', 'is', 'categorised', 'as', 'an', 'Other', 'Backward', 'Class', 'by', 'the', 'Indian', 'government.Modi', 'was', 'the', 'third', 'of', 'six', 'children', 'born', 'to', 'Damodardas', 'Mulchand', '(1915–1989)', 'and', 'Heeraben', 'Modi', '(b.', 'c.', '1920).As', 'a', 'child,', 'Modi', 'helped', 'his', 'father', 'sell', 'tea', 'at', 'the', 'Vadnagar', 'railway', 'station,', 'and', 'later', 'ran', 'a', 'tea', 'stall', 'with', 'his', 'brother', 'near', 'a', 'bus', 'terminus.Modi', 'completed', 'his', 'higher', 'secondary', 'education', 'in', 'Vadnagar', 'in', '1967,', 'where', 'a', 'teacher', 'described', 'him', 'as', 'an', 'average', 'student', 'and', 'a', 'keen', 'debater,', 'with', 'an', 'interest', 'in', 'theatre.Modi', 'had', 'an', 'early', 'gift', 'for', 'rhetoric', 'in', 'debates,', 'and', 'this', 'was', 'noted', 'by', 'his', 'teachers', 'and', 'students.Modi', 'preferred', 'playing', 'larger-than-life', 'characters', 'in', 'theatrical', 'productions,', 'which', 'has', 'influenced', 'his', 'political', 'image.At', 'age', 'eight,', 'Modi', 'discovered', 'the', 'Rashtriya', 'Swayamsevak', 'Sangh', '(RSS),', 'and', 'began', 'attending', 'its', 'local', 'shakhas', '(training', 'sessions).', 'There,', 'Modi', 'met', 'Lakshmanrao', 'Inamdar,', 'popularly', 'known', 'as', 'Vakil', 'Saheb,', 'who', 'inducted', 'him', 'as', 'an', 'RSS', 'balswayamsevak', '(junior', 'cadet)', 'and', 'became', 'his', 'political', 'mentor.While', 'Modi', 'was', 'training', 'with', 'the', 'RSS,', 'he', 'also', 'met', 'Vasant', 'Gajendragadkar', 'and', 'Nathalal', 'Jaghda,', 'Bharatiya', 'Jana', 'Sangh', 'leaders', 'who', 'were', 'founding', 'members', 'of', 'the', \"BJP's\", 'Gujarat', 'unit', 'in', '1980.Engaged', 'while', 'still', 'a', 'child', 'to', 'a', 'local', 'girl,', 'Jashodaben', 'Narendrabhai', 'Modi,', 'Modi', 'rejected', 'the', 'arranged', 'marriage', 'at', 'the', 'same', 'time', 'he', 'graduated', 'from', 'high', 'school.The', 'resulting', 'familial', 'tensions', 'contributed', 'to', 'his', 'decision', 'to', 'leave', 'home', 'in', '1967.Modi', 'spent', 'the', 'ensuing', 'two', 'years', 'travelling', 'across', 'Northern', 'and', 'North-eastern', 'India,', 'though', 'few', 'details', 'of', 'where', 'he', 'went', 'have', 'emerged.In', 'interviews,', 'Modi', 'has', 'described', 'visiting', 'Hindu', 'ashrams', 'founded', 'by', 'Swami', 'Vivekananda:', 'the', 'Belur', 'Math', 'near', 'Kolkata,', 'followed', 'by', 'the', 'Advaita', 'Ashrama', 'in', 'Almora', 'and', 'the', 'Ramakrishna', 'mission', 'in', 'Rajkot.', 'Modi', 'remained', 'only', 'a', 'short', 'time', 'at', 'each,', 'since', 'he', 'lacked', 'the', 'required', 'college', 'education.']\n"
     ]
    }
   ],
   "source": [
    "print(assign_txt.split(\" \"))"
   ]
  },
  {
   "cell_type": "code",
   "execution_count": 113,
   "metadata": {},
   "outputs": [
    {
     "name": "stdout",
     "output_type": "stream",
     "text": [
      "['1950', '2014', '2001', '2014', '2014', '1984', '2002', '1950', '1920', '1967', '1980', '1967']\n"
     ]
    }
   ],
   "source": [
    "#to find ALL THE years in the text\n",
    "store = []\n",
    "years =[]\n",
    "for w in assign_txt.replace(\".\",\" \").replace(\"(\",\" \").replace(\")\",\" \").replace(\"-\",\" \").replace(\",\",\" \").split(\" \"):\n",
    "            if w.isdigit():\n",
    "                store.append(w)                \n",
    "for y in store:\n",
    "    if len(y)==4:\n",
    "        years.append(y)\n",
    "\n",
    "print  (years)\n",
    "               "
   ]
  },
  {
   "cell_type": "code",
   "execution_count": 114,
   "metadata": {},
   "outputs": [
    {
     "data": {
      "text/plain": [
       "12"
      ]
     },
     "execution_count": 114,
     "metadata": {},
     "output_type": "execute_result"
    }
   ],
   "source": [
    "len(years)"
   ]
  },
  {
   "cell_type": "markdown",
   "metadata": {},
   "source": [
    "# List Comprehension"
   ]
  },
  {
   "cell_type": "code",
   "execution_count": 115,
   "metadata": {},
   "outputs": [],
   "source": [
    "c=[2,3,4,5,6,7,8,9,10]"
   ]
  },
  {
   "cell_type": "code",
   "execution_count": 116,
   "metadata": {},
   "outputs": [
    {
     "name": "stdout",
     "output_type": "stream",
     "text": [
      "[4, 9, 16, 25, 36, 49, 64, 81, 100]\n"
     ]
    }
   ],
   "source": [
    "#Suppose we want to create a list containing the squares in the list c\n",
    "#Method 1\n",
    "s=[]\n",
    "for num in c:\n",
    "    s.append(num**2) #square is written as **\n",
    "print(s)"
   ]
  },
  {
   "cell_type": "code",
   "execution_count": 117,
   "metadata": {},
   "outputs": [
    {
     "data": {
      "text/plain": [
       "[4, 9, 16, 25, 36, 49, 64, 81, 100]"
      ]
     },
     "execution_count": 117,
     "metadata": {},
     "output_type": "execute_result"
    }
   ],
   "source": [
    "#Method 2\n",
    "[x**2 for x in c ] #Very concise way"
   ]
  },
  {
   "cell_type": "code",
   "execution_count": 118,
   "metadata": {},
   "outputs": [],
   "source": [
    "Python_Structure = ['List', 'Strings','Dict','Boolean']\n",
    "range(50)\n",
    "Data_Science = 'Data is the new oil'\n",
    "price = 'Rs.20,000'\n",
    "income = 50000"
   ]
  },
  {
   "cell_type": "code",
   "execution_count": 119,
   "metadata": {},
   "outputs": [
    {
     "ename": "TypeError",
     "evalue": "'int' object is not iterable",
     "output_type": "error",
     "traceback": [
      "\u001b[1;31m---------------------------------------------------------------------------\u001b[0m",
      "\u001b[1;31mTypeError\u001b[0m                                 Traceback (most recent call last)",
      "\u001b[1;32m<ipython-input-119-424191639775>\u001b[0m in \u001b[0;36m<module>\u001b[1;34m\u001b[0m\n\u001b[1;32m----> 1\u001b[1;33m \u001b[1;33m[\u001b[0m\u001b[0mx\u001b[0m\u001b[1;33m+\u001b[0m\u001b[1;36m2\u001b[0m \u001b[1;32mfor\u001b[0m \u001b[0mx\u001b[0m \u001b[1;32min\u001b[0m \u001b[0mincome\u001b[0m \u001b[1;33m]\u001b[0m   \u001b[1;31m#Why error\u001b[0m\u001b[1;33m\u001b[0m\u001b[1;33m\u001b[0m\u001b[0m\n\u001b[0m",
      "\u001b[1;31mTypeError\u001b[0m: 'int' object is not iterable"
     ]
    }
   ],
   "source": [
    "[x+2 for x in income ]   #Why error"
   ]
  },
  {
   "cell_type": "markdown",
   "metadata": {},
   "source": [
    "# Heading\n",
    "## Heading1\n",
    "## Heading2\n",
    "- Suppose we want to create a list from a and b such that it looks like the following:\n",
    "- [[1,'a'],[2,'b'],[3,'c'],[4,'d']]"
   ]
  },
  {
   "cell_type": "code",
   "execution_count": 120,
   "metadata": {},
   "outputs": [],
   "source": [
    "a=[1,2,3,4,5,6,7,8]\n",
    "b=['a','b','c','d','e','f','g','h']"
   ]
  },
  {
   "cell_type": "code",
   "execution_count": 121,
   "metadata": {},
   "outputs": [
    {
     "data": {
      "text/plain": [
       "[[1, 'a'],\n",
       " [2, 'b'],\n",
       " [3, 'c'],\n",
       " [4, 'd'],\n",
       " [5, 'e'],\n",
       " [6, 'f'],\n",
       " [7, 'g'],\n",
       " [8, 'h']]"
      ]
     },
     "execution_count": 121,
     "metadata": {},
     "output_type": "execute_result"
    }
   ],
   "source": [
    "[[x,y] for x in a for y in b if a.index(x)==b.index(y)]"
   ]
  },
  {
   "cell_type": "code",
   "execution_count": 122,
   "metadata": {},
   "outputs": [
    {
     "name": "stdout",
     "output_type": "stream",
     "text": [
      "[[0, 3], [0, 4], [1, 3], [1, 4]]\n"
     ]
    }
   ],
   "source": [
    "pairs = []\n",
    "for p in range(0,2):\n",
    "    for q in range(3,5):\n",
    "        pairs.append([p,q])\n",
    "print(pairs)"
   ]
  },
  {
   "cell_type": "code",
   "execution_count": 123,
   "metadata": {},
   "outputs": [
    {
     "name": "stdout",
     "output_type": "stream",
     "text": [
      "[[0, 3], [0, 4], [1, 3], [1, 4]]\n"
     ]
    }
   ],
   "source": [
    "pairs2 = [[p,q] for p in range(0,2) for q in range(3,5)]\n",
    "print(pairs2)"
   ]
  },
  {
   "cell_type": "markdown",
   "metadata": {},
   "source": [
    "# zip"
   ]
  },
  {
   "cell_type": "code",
   "execution_count": 2,
   "metadata": {},
   "outputs": [
    {
     "data": {
      "text/plain": [
       "<zip at 0x1a516f4a080>"
      ]
     },
     "execution_count": 2,
     "metadata": {},
     "output_type": "execute_result"
    }
   ],
   "source": [
    "# zip\n",
    "a=[1,2,3,4]\n",
    "b=['a','b','c','d']\n",
    "zip(a,b)"
   ]
  },
  {
   "cell_type": "code",
   "execution_count": 3,
   "metadata": {},
   "outputs": [
    {
     "name": "stdout",
     "output_type": "stream",
     "text": [
      "[(1, 'a'), (2, 'b'), (3, 'c'), (4, 'd')]\n"
     ]
    }
   ],
   "source": [
    "print(list(zip(a,b)))"
   ]
  },
  {
   "cell_type": "code",
   "execution_count": 4,
   "metadata": {},
   "outputs": [
    {
     "data": {
      "text/plain": [
       "[[1, 'a'], [2, 'b'], [3, 'c'], [4, 'd']]"
      ]
     },
     "execution_count": 4,
     "metadata": {},
     "output_type": "execute_result"
    }
   ],
   "source": [
    "( list(x) for x in zip(a,b)) "
   ]
  },
  {
   "cell_type": "code",
   "execution_count": 127,
   "metadata": {},
   "outputs": [
    {
     "name": "stdout",
     "output_type": "stream",
     "text": [
      "['P', 'Q', 'R']\n"
     ]
    }
   ],
   "source": [
    "x = ['P', 6, 1, 'Q', 5, 'R']           #List Comprehension - Conditions on output expression\n",
    "strings = [y for y in x if type(y) == str]\n",
    "print(strings)"
   ]
  },
  {
   "cell_type": "code",
   "execution_count": 129,
   "metadata": {},
   "outputs": [
    {
     "data": {
      "text/plain": [
       "[0, 4, 16, 36, 64, 100]"
      ]
     },
     "execution_count": 129,
     "metadata": {},
     "output_type": "execute_result"
    }
   ],
   "source": [
    "[num**2 for num in range(11) if num%2 ==0]"
   ]
  },
  {
   "cell_type": "code",
   "execution_count": 132,
   "metadata": {},
   "outputs": [
    {
     "name": "stdout",
     "output_type": "stream",
     "text": [
      "[0, 0, 4, 0, 16, 0, 36, 0, 64, 0]\n"
     ]
    }
   ],
   "source": [
    "print([num**2 if num%2 ==0 else 0 for num in range(10)])"
   ]
  },
  {
   "cell_type": "code",
   "execution_count": 131,
   "metadata": {
    "scrolled": true
   },
   "outputs": [
    {
     "name": "stdout",
     "output_type": "stream",
     "text": [
      "<generator object <genexpr> at 0x0000025BFD8CD3C0>\n",
      "[4, 1, 6]\n"
     ]
    }
   ],
   "source": [
    "int_list = [-2, 4, 1, 6, -3]\n",
    "print(x for x in int_list if x > 0)\n",
    "print(list(x for x in int_list if x > 0))"
   ]
  },
  {
   "cell_type": "markdown",
   "metadata": {},
   "source": [
    "### Lambdas, map\n",
    "- We can use lambdas, map to replicate the functionality of list comprehension"
   ]
  },
  {
   "cell_type": "code",
   "execution_count": 17,
   "metadata": {},
   "outputs": [
    {
     "name": "stdout",
     "output_type": "stream",
     "text": [
      "<map object at 0x000001A516F61DF0>\n",
      "[16.528925619834713, 19.031141868512112, 27.055150884495315, 23.456790123456788]\n",
      "<filter object at 0x000001A516F613A0>\n",
      "[]\n"
     ]
    }
   ],
   "source": [
    "mass=[45,55,65,76]\n",
    "ht=[1.65,1.70,1.55,1.80]\n",
    "bmi=map(lambda x,y:x/y**2,mass,ht)\n",
    "print (bmi)\n",
    "print(list(bmi))\n",
    "bmi_f=filter(lambda x:x>20,list(bmi))\n",
    "print (bmi_f)\n",
    "print(list(bmi_f))"
   ]
  },
  {
   "cell_type": "code",
   "execution_count": 11,
   "metadata": {},
   "outputs": [
    {
     "name": "stdout",
     "output_type": "stream",
     "text": [
      "<map object at 0x000001A516F61E20>\n",
      "[16.528925619834713, 19.031141868512112, 27.055150884495315, 23.456790123456788, 22.907122032486466]\n",
      "[16.528925619834713, 19.031141868512112]\n"
     ]
    }
   ],
   "source": [
    "#### To see both values:- \n",
    "mass=[45,55,65,76,88]\n",
    "ht=[1.65,1.70,1.55,1.80,1.96]\n",
    "bmi=map(lambda x,y:x/y**2,mass,ht)\n",
    "#print(list(bmi))\n",
    "bmi1 = list(bmi).copy()\n",
    "bmi_f=list(filter(lambda x:x<20,bmi1))\n",
    "print(bmi)\n",
    "print (bmi1)\n",
    "print (bmi_f)\n",
    "#print(list(bmi1))\n",
    "#print(list(bmi_f))"
   ]
  },
  {
   "cell_type": "markdown",
   "metadata": {},
   "source": [
    "# lambda function"
   ]
  },
  {
   "cell_type": "code",
   "execution_count": 18,
   "metadata": {},
   "outputs": [
    {
     "name": "stdout",
     "output_type": "stream",
     "text": [
      "YayYayYay\n"
     ]
    }
   ],
   "source": [
    "# Define W1 as a lambda function\n",
    "W1 = (lambda x, y: x * y)\n",
    "\n",
    "# Call W1: result\n",
    "result = W1('Yay', 3)\n",
    "\n",
    "# Print result\n",
    "print(result)"
   ]
  },
  {
   "cell_type": "code",
   "execution_count": null,
   "metadata": {},
   "outputs": [],
   "source": [
    "nums = [2, 4, 6, 8, 10]\n",
    "result = map(lambda a: a ** 2, nums)"
   ]
  },
  {
   "cell_type": "code",
   "execution_count": null,
   "metadata": {
    "scrolled": true
   },
   "outputs": [],
   "source": [
    "# Filter\n",
    "Cities = ['Delhi', 'Pune', 'Chennai', 'Kolkata']\n",
    "\n",
    "# Use filter() to apply a lambda function over fellowship: result\n",
    "result = filter(lambda m: len(m) > 6, Cities)\n",
    "\n",
    "type(result)\n",
    "# Convert result to a list: result_list\n",
    "result_list = list(result)\n",
    "\n",
    "# Convert result into a list and print it\n",
    "print(result_list)\n"
   ]
  },
  {
   "cell_type": "markdown",
   "metadata": {},
   "source": [
    "# Error Handling"
   ]
  },
  {
   "cell_type": "code",
   "execution_count": 36,
   "metadata": {},
   "outputs": [],
   "source": [
    "# import module sys to get the type of exception\n",
    "import sys"
   ]
  },
  {
   "cell_type": "code",
   "execution_count": 40,
   "metadata": {},
   "outputs": [
    {
     "name": "stdout",
     "output_type": "stream",
     "text": [
      "(<class 'TypeError'>, TypeError(\"can't multiply sequence by non-int of type 'str'\"), <traceback object at 0x000001A518E64240>)\n"
     ]
    },
    {
     "data": {
      "text/plain": [
       "''"
      ]
     },
     "execution_count": 40,
     "metadata": {},
     "output_type": "execute_result"
    }
   ],
   "source": [
    "# Define w\n",
    "def w3(x, y=1):\n",
    "    \"\"\"Concatenate  copies of word1 and two\n",
    "    exclamation marks at the end of the string.\"\"\"\n",
    "\n",
    "    # Initialize empty strings: \n",
    "    w3 = ''\n",
    "    s3 = ''\n",
    "\n",
    "    # Add exception handling with try-except\n",
    "    try:\n",
    "        # Concatenate copies of word using *\n",
    "        w3 = x * y\n",
    "        # Concatenate '!!' \n",
    "        s3 = w3 + '!!'\n",
    "    except:\n",
    "        # Print error message\n",
    "        #print(\"x argument must be a string and y argument must be an integer.\")\n",
    "        print(sys.exc_info())\n",
    "        #print(sys.exc_info()[1])\n",
    "    return s3\n",
    "\n",
    "# Call s\n",
    "#w3(\"Yay\", 3)\n",
    "w3(\"Yay\", \"Great\")\n"
   ]
  },
  {
   "cell_type": "code",
   "execution_count": 42,
   "metadata": {},
   "outputs": [
    {
     "name": "stdout",
     "output_type": "stream",
     "text": [
      "<class 'TypeError'>\n"
     ]
    },
    {
     "data": {
      "text/plain": [
       "''"
      ]
     },
     "execution_count": 42,
     "metadata": {},
     "output_type": "execute_result"
    }
   ],
   "source": [
    "# Define w\n",
    "def w3(x, y=1):\n",
    "    \"\"\"Concatenate  copies of word1 and two\n",
    "    exclamation marks at the end of the string.\"\"\"\n",
    "\n",
    "    # Initialize empty strings: \n",
    "    w3 = ''\n",
    "    s3 = ''\n",
    "\n",
    "    # Add exception handling with try-except\n",
    "    try:\n",
    "        # Concatenate copies of word using *\n",
    "        w3 = x * y\n",
    "        # Concatenate '!!' \n",
    "        s3 = w3 + '!!'\n",
    "    except Exception as e:\n",
    "        # Print error message\n",
    "        #print(\"x argument must be a string and y argument must be an integer.\")\n",
    "        print(e.__class__)\n",
    "        #print(sys.exc_info()[1])\n",
    "    return s3\n",
    "\n",
    "# Call s\n",
    "#w3(\"Yay\", 3)\n",
    "w3(\"Yay\", \"Great\")\n"
   ]
  },
  {
   "cell_type": "code",
   "execution_count": 33,
   "metadata": {},
   "outputs": [
    {
     "ename": "ValueError",
     "evalue": "y must be greater than 0",
     "output_type": "error",
     "traceback": [
      "\u001b[1;31m---------------------------------------------------------------------------\u001b[0m",
      "\u001b[1;31mValueError\u001b[0m                                Traceback (most recent call last)",
      "\u001b[1;32m<ipython-input-33-4c2bd3c53134>\u001b[0m in \u001b[0;36m<module>\u001b[1;34m\u001b[0m\n\u001b[0;32m     19\u001b[0m \u001b[1;33m\u001b[0m\u001b[0m\n\u001b[0;32m     20\u001b[0m \u001b[1;31m# Call w4\u001b[0m\u001b[1;33m\u001b[0m\u001b[1;33m\u001b[0m\u001b[1;33m\u001b[0m\u001b[0m\n\u001b[1;32m---> 21\u001b[1;33m \u001b[0mw4\u001b[0m\u001b[1;33m(\u001b[0m\u001b[1;34m\"Yay\"\u001b[0m\u001b[1;33m,\u001b[0m \u001b[0my\u001b[0m\u001b[1;33m=\u001b[0m\u001b[1;33m-\u001b[0m\u001b[1;36m5\u001b[0m\u001b[1;33m)\u001b[0m\u001b[1;33m\u001b[0m\u001b[1;33m\u001b[0m\u001b[0m\n\u001b[0m",
      "\u001b[1;32m<ipython-input-33-4c2bd3c53134>\u001b[0m in \u001b[0;36mw4\u001b[1;34m(x, y)\u001b[0m\n\u001b[0;32m      8\u001b[0m     \u001b[1;32mif\u001b[0m \u001b[0my\u001b[0m \u001b[1;33m<\u001b[0m \u001b[1;36m0\u001b[0m\u001b[1;33m:\u001b[0m\u001b[1;33m\u001b[0m\u001b[1;33m\u001b[0m\u001b[0m\n\u001b[0;32m      9\u001b[0m         \u001b[1;31m#raise ValueError('w4 must be greater than 0')\u001b[0m\u001b[1;33m\u001b[0m\u001b[1;33m\u001b[0m\u001b[1;33m\u001b[0m\u001b[0m\n\u001b[1;32m---> 10\u001b[1;33m         \u001b[1;32mraise\u001b[0m \u001b[0mValueError\u001b[0m\u001b[1;33m(\u001b[0m\u001b[1;34m'y must be greater than 0'\u001b[0m\u001b[1;33m)\u001b[0m\u001b[1;33m\u001b[0m\u001b[1;33m\u001b[0m\u001b[0m\n\u001b[0m\u001b[0;32m     11\u001b[0m     \u001b[1;31m# Concatenate  copies of word1 using *:\u001b[0m\u001b[1;33m\u001b[0m\u001b[1;33m\u001b[0m\u001b[1;33m\u001b[0m\u001b[0m\n\u001b[0;32m     12\u001b[0m     \u001b[0mz\u001b[0m \u001b[1;33m=\u001b[0m \u001b[0mx\u001b[0m \u001b[1;33m*\u001b[0m \u001b[0my\u001b[0m\u001b[1;33m\u001b[0m\u001b[1;33m\u001b[0m\u001b[0m\n",
      "\u001b[1;31mValueError\u001b[0m: y must be greater than 0"
     ]
    }
   ],
   "source": [
    "# Define w4\n",
    "def w4(x, y=3):\n",
    "    \"\"\"Concatenate copies of word-x and three\n",
    "    exclamation marks at the end of the string.\"\"\"\n",
    "\n",
    "    # Raise an error with raise\n",
    "    #if w4 < 0:\n",
    "    if y < 0:\n",
    "        #raise ValueError('w4 must be greater than 0')\n",
    "        raise ValueError('y must be greater than 0')\n",
    "    # Concatenate  copies of word1 using *: \n",
    "    z = x * y\n",
    "\n",
    "    # Concatenate '!!!'\n",
    "    w = z + '!!!'\n",
    "\n",
    "    # Return \n",
    "    return w\n",
    "\n",
    "# Call w4\n",
    "w4(\"Yay\", y=-5)\n"
   ]
  },
  {
   "cell_type": "code",
   "execution_count": 45,
   "metadata": {},
   "outputs": [
    {
     "name": "stdout",
     "output_type": "stream",
     "text": [
      "Type error\n"
     ]
    },
    {
     "data": {
      "text/plain": [
       "'!!'"
      ]
     },
     "execution_count": 45,
     "metadata": {},
     "output_type": "execute_result"
    }
   ],
   "source": [
    "# Define w\n",
    "def w3(x, y=1):\n",
    "    \"\"\"Concatenate  copies of word1 and two\n",
    "    exclamation marks at the end of the string.\"\"\"\n",
    "\n",
    "    # Initialize empty strings: \n",
    "    w3 = ''\n",
    "    s3 = ''\n",
    "\n",
    "    # Add exception handling with try-except\n",
    "    try:\n",
    "        # Concatenate copies of word using *\n",
    "        w3 = x * y\n",
    "        #w3 = x/y\n",
    "        # Concatenate '!!' \n",
    "        s3 = w3 + '!!'\n",
    "    except ValueError:\n",
    "        # Print error message\n",
    "        print(\"x argument must be a string and y argument must be an integer.\")\n",
    "    except TypeError:\n",
    "        print(\"Type error\")\n",
    "    except ZeroDivisionError:\n",
    "        print(\"Zero Division Error\")\n",
    "    except:\n",
    "        print(\"something else\")\n",
    "    return s3\n",
    "\n",
    "# Call s\n",
    "#w3(\"Yay\", 3)\n",
    "#w3(\"Yay\", \"Great\")\n",
    "w3(1,0)\n",
    "w3(\"Yay\", -3)"
   ]
  },
  {
   "cell_type": "markdown",
   "metadata": {},
   "source": [
    "### Tuples\n",
    "- Tuples as immutable iterables\n",
    "- Tuple methods"
   ]
  },
  {
   "cell_type": "code",
   "execution_count": null,
   "metadata": {},
   "outputs": [],
   "source": [
    "t=(1,2,3,5)\n",
    "print(t)"
   ]
  },
  {
   "cell_type": "code",
   "execution_count": null,
   "metadata": {},
   "outputs": [],
   "source": [
    "print(t[0])\n",
    "print (t[1])"
   ]
  },
  {
   "cell_type": "code",
   "execution_count": null,
   "metadata": {},
   "outputs": [],
   "source": [
    "##List\n",
    "li6=[1,2,3,4]\n",
    "li6[0]=0\n",
    "print (li6)"
   ]
  },
  {
   "cell_type": "code",
   "execution_count": null,
   "metadata": {},
   "outputs": [],
   "source": [
    "t[0]=0"
   ]
  },
  {
   "cell_type": "code",
   "execution_count": null,
   "metadata": {
    "scrolled": true
   },
   "outputs": [],
   "source": [
    "print (dir(t))"
   ]
  },
  {
   "cell_type": "markdown",
   "metadata": {},
   "source": [
    "### Dictionaries\n",
    "- Dictionaries as hashbles\n",
    "- Extracting keys, values\n",
    "- Sorting  a dictionary\n",
    "- Looping through a dictionary"
   ]
  },
  {
   "cell_type": "code",
   "execution_count": null,
   "metadata": {},
   "outputs": [],
   "source": [
    "Income = [30000,40000,25000]\n",
    "name = [\"Umesh\", \"Ramesh\",\"Nilesh\"]\n",
    "in_r = name.index('Ramesh')\n",
    "in_r\n",
    "Income[in_r]"
   ]
  },
  {
   "cell_type": "code",
   "execution_count": null,
   "metadata": {
    "scrolled": true
   },
   "outputs": [],
   "source": [
    "#Dictionary - key:value pairs\n",
    "\n",
    "Inc = {\"Umesh\":30000,\"Ramesh\":40000,\"Nilesh\":25000}\n",
    "print(Inc)"
   ]
  },
  {
   "cell_type": "code",
   "execution_count": null,
   "metadata": {},
   "outputs": [],
   "source": [
    "#dict_name[key]\n",
    "\n",
    "print(Inc[\"Umesh\"])"
   ]
  },
  {
   "cell_type": "code",
   "execution_count": null,
   "metadata": {},
   "outputs": [],
   "source": [
    "#Print keys in Inc\n",
    "\n",
    "print(Inc.keys())\n",
    "print(Inc.values())"
   ]
  },
  {
   "cell_type": "code",
   "execution_count": null,
   "metadata": {},
   "outputs": [],
   "source": [
    "\"Nilesh\" in Inc"
   ]
  },
  {
   "cell_type": "code",
   "execution_count": null,
   "metadata": {},
   "outputs": [],
   "source": [
    "Inc[\"Nilesh\"] = 35000\n",
    "print(Inc)"
   ]
  },
  {
   "cell_type": "code",
   "execution_count": null,
   "metadata": {},
   "outputs": [],
   "source": [
    "del(Inc[\"Nilesh\"])"
   ]
  },
  {
   "cell_type": "code",
   "execution_count": null,
   "metadata": {},
   "outputs": [],
   "source": [
    "print(Inc)"
   ]
  },
  {
   "cell_type": "code",
   "execution_count": null,
   "metadata": {},
   "outputs": [],
   "source": [
    "print (dir(Inc))"
   ]
  },
  {
   "cell_type": "code",
   "execution_count": null,
   "metadata": {},
   "outputs": [],
   "source": [
    "print (Inc.items())"
   ]
  },
  {
   "cell_type": "code",
   "execution_count": null,
   "metadata": {},
   "outputs": [],
   "source": [
    "# Dictionary of dictionaries\n",
    "Income1 = { 'Ramesh': { 'Gender':'male', 'Income':40000},\n",
    "           'Ana': { 'Gender':'female', 'Income':66000 },\n",
    "           'Uma': { 'Gender':'female', 'Income':20000 },\n",
    "           'Umesh': { 'Gender':'male', 'Income':58000 } }\n",
    "\n",
    "\n",
    "# Print out the Income of Ramesh\n",
    "print(Income1['Ramesh']['Income'])\n",
    "\n",
    "# Create sub-dictionary data\n",
    "income2 = { 'Gender':'female', 'Income':30000 }\n",
    "\n",
    "# Add data to europe under key 'italy'\n",
    "Income1['Seema'] = income2\n",
    "\n",
    "# Print\n",
    "print(Income1)"
   ]
  },
  {
   "cell_type": "code",
   "execution_count": null,
   "metadata": {},
   "outputs": [],
   "source": [
    "for x in Inc:\n",
    "    print (x)"
   ]
  },
  {
   "cell_type": "code",
   "execution_count": null,
   "metadata": {},
   "outputs": [],
   "source": [
    "for x in Inc:\n",
    "    print (x, Inc[x])"
   ]
  },
  {
   "cell_type": "code",
   "execution_count": null,
   "metadata": {},
   "outputs": [],
   "source": [
    "#List Comprehension on Dictionaries\n",
    "\n",
    "pos_neg = {l:-l for l in range(3)}\n",
    "print(pos_neg)\n",
    "type(pos_neg)"
   ]
  },
  {
   "cell_type": "markdown",
   "metadata": {},
   "source": [
    "### Use the assign_txt\n",
    "- Find out the occurence of each word in text string (Create a list of each word in the string, loop over this list to create a dictionary of words and their occurences"
   ]
  },
  {
   "cell_type": "code",
   "execution_count": null,
   "metadata": {},
   "outputs": [],
   "source": [
    "d={}\n",
    "for w in assign_txt.split(\" \"):\n",
    "    if w in d:\n",
    "        d[w]=d[w]+1\n",
    "    else:\n",
    "        d[w]=1\n",
    "    "
   ]
  },
  {
   "cell_type": "code",
   "execution_count": null,
   "metadata": {},
   "outputs": [],
   "source": [
    "print (d)"
   ]
  },
  {
   "cell_type": "markdown",
   "metadata": {},
   "source": [
    "### Files\n",
    "- Reading files\n",
    "- Manipulating data in file objects\n",
    "- Writing out files"
   ]
  },
  {
   "cell_type": "code",
   "execution_count": null,
   "metadata": {},
   "outputs": [],
   "source": [
    "# modules interlude\n",
    "import os\n",
    "os.chdir('C:/Users/Animesh.Parikshya/Documents/IIM Classes/Data sets')"
   ]
  },
  {
   "cell_type": "code",
   "execution_count": null,
   "metadata": {},
   "outputs": [],
   "source": [
    "f=open('tweets_assignment.txt','r')\n",
    "fo=f.read()\n",
    "print(type(f))\n",
    "print(type(fo))\n",
    "f.close()"
   ]
  },
  {
   "cell_type": "code",
   "execution_count": null,
   "metadata": {},
   "outputs": [],
   "source": [
    "f=open('write.txt','w')\n",
    "for dt in fo:\n",
    "    f.write(dt+'\\n')\n",
    "f.close()"
   ]
  },
  {
   "cell_type": "code",
   "execution_count": null,
   "metadata": {},
   "outputs": [],
   "source": [
    "fo[0:100]"
   ]
  },
  {
   "cell_type": "code",
   "execution_count": null,
   "metadata": {},
   "outputs": [],
   "source": [
    "with open(\"tweets_assignment.txt\",\"r\") as infile:\n",
    "    dat=infile.read()"
   ]
  },
  {
   "cell_type": "code",
   "execution_count": null,
   "metadata": {},
   "outputs": [],
   "source": [
    "dat[0:100]"
   ]
  },
  {
   "cell_type": "markdown",
   "metadata": {},
   "source": [
    "### Assignment\n",
    "- Use the file tweets_assignment.txt\n",
    "- Count the total number of tweets in the file\n",
    "- Extract the time stamp from the file and store it in a list"
   ]
  },
  {
   "cell_type": "code",
   "execution_count": null,
   "metadata": {},
   "outputs": [],
   "source": [
    "## Total number of tweets\n",
    "f=open('tweets_assignment.txt','r')\n",
    "fo=f.read()\n",
    "f.close()"
   ]
  },
  {
   "cell_type": "code",
   "execution_count": null,
   "metadata": {},
   "outputs": [],
   "source": [
    "fo[0:100]"
   ]
  },
  {
   "cell_type": "code",
   "execution_count": null,
   "metadata": {},
   "outputs": [],
   "source": [
    "len(fo.split(\"\\n\"))"
   ]
  },
  {
   "cell_type": "code",
   "execution_count": null,
   "metadata": {},
   "outputs": [],
   "source": [
    "## Extract the time stamp\n",
    "for line in fo.split(\"\\n\"):\n",
    "    print(line.split(\"|\")[0])"
   ]
  },
  {
   "cell_type": "code",
   "execution_count": null,
   "metadata": {},
   "outputs": [],
   "source": []
  }
 ],
 "metadata": {
  "kernelspec": {
   "display_name": "Python 3",
   "language": "python",
   "name": "python3"
  },
  "language_info": {
   "codemirror_mode": {
    "name": "ipython",
    "version": 3
   },
   "file_extension": ".py",
   "mimetype": "text/x-python",
   "name": "python",
   "nbconvert_exporter": "python",
   "pygments_lexer": "ipython3",
   "version": "3.8.3"
  }
 },
 "nbformat": 4,
 "nbformat_minor": 1
}

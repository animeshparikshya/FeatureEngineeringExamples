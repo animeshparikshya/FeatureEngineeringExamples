{
 "cells": [
  {
   "cell_type": "code",
   "execution_count": 1,
   "metadata": {},
   "outputs": [],
   "source": [
    "import pandas as pd\n",
    "import numpy as np\n",
    "from sklearn.preprocessing import LabelEncoder\n",
    "from sklearn.model_selection import train_test_split\n",
    "from sklearn.tree import DecisionTreeRegressor"
   ]
  },
  {
   "cell_type": "code",
   "execution_count": 2,
   "metadata": {},
   "outputs": [],
   "source": [
    "import os\n",
    "data_dir='C:/Users/Animesh.Parikshya/Documents/IIM Classes/Data sets'"
   ]
  },
  {
   "cell_type": "code",
   "execution_count": 3,
   "metadata": {},
   "outputs": [],
   "source": [
    "os.chdir(data_dir)"
   ]
  },
  {
   "cell_type": "code",
   "execution_count": 4,
   "metadata": {},
   "outputs": [],
   "source": [
    "superstore=pd.read_csv(\"sample-superstore.csv\")\n",
    "# encoding ='ISO-8859-1'"
   ]
  },
  {
   "cell_type": "code",
   "execution_count": 5,
   "metadata": {},
   "outputs": [],
   "source": [
    "superstore_encoded = superstore.copy()"
   ]
  },
  {
   "cell_type": "code",
   "execution_count": 6,
   "metadata": {},
   "outputs": [],
   "source": [
    "superstore_encoded = superstore_encoded[['Row ID', 'Ship Mode',\n",
    "       'Segment', 'City', 'State',\n",
    "       'Postal Code', 'Region', 'Category', 'Sub-Category',\n",
    "       'Product Name', 'Sales', 'Quantity', 'Discount', 'Profit']]"
   ]
  },
  {
   "cell_type": "code",
   "execution_count": 7,
   "metadata": {},
   "outputs": [],
   "source": [
    "le = LabelEncoder()"
   ]
  },
  {
   "cell_type": "code",
   "execution_count": 8,
   "metadata": {},
   "outputs": [],
   "source": [
    "superstore_encoded['Ship Mode'] = le.fit_transform(superstore_encoded['Ship Mode'].values)\n",
    "superstore_encoded['Segment'] = le.fit_transform(superstore_encoded['Segment'].values)\n",
    "superstore_encoded['City'] = le.fit_transform(superstore_encoded['City'].values)\n",
    "superstore_encoded['State'] = le.fit_transform(superstore_encoded['State'].values)\n",
    "superstore_encoded['Postal Code'] = le.fit_transform(superstore_encoded['Postal Code'].values)\n",
    "superstore_encoded['Region'] = le.fit_transform(superstore_encoded['Region'].values)\n",
    "superstore_encoded['Category'] = le.fit_transform(superstore_encoded['Category'].values)\n",
    "superstore_encoded['Sub-Category'] = le.fit_transform(superstore_encoded['Sub-Category'].values)\n",
    "superstore_encoded['Product Name'] = le.fit_transform(superstore_encoded['Product Name'].values)"
   ]
  },
  {
   "cell_type": "code",
   "execution_count": 9,
   "metadata": {},
   "outputs": [],
   "source": [
    "#Target is sales - Continuous "
   ]
  },
  {
   "cell_type": "code",
   "execution_count": 11,
   "metadata": {},
   "outputs": [
    {
     "data": {
      "text/plain": [
       "Index(['Row ID', 'Ship Mode', 'Segment', 'City', 'State', 'Postal Code',\n",
       "       'Region', 'Category', 'Sub-Category', 'Product Name', 'Sales',\n",
       "       'Quantity', 'Discount', 'Profit'],\n",
       "      dtype='object')"
      ]
     },
     "execution_count": 11,
     "metadata": {},
     "output_type": "execute_result"
    }
   ],
   "source": [
    "superstore_encoded.columns"
   ]
  },
  {
   "cell_type": "code",
   "execution_count": 13,
   "metadata": {},
   "outputs": [],
   "source": [
    "feature_cols = ['Ship Mode', 'Segment', 'City', 'State', 'Postal Code',\n",
    "       'Region', 'Category', 'Sub-Category', 'Product Name',\n",
    "       'Quantity', 'Discount', 'Profit']"
   ]
  },
  {
   "cell_type": "code",
   "execution_count": 17,
   "metadata": {},
   "outputs": [],
   "source": [
    "X = superstore_encoded[feature_cols]\n",
    "Y = superstore_encoded.Sales"
   ]
  },
  {
   "cell_type": "code",
   "execution_count": 15,
   "metadata": {},
   "outputs": [],
   "source": [
    "from sklearn.feature_selection import SelectKBest\n",
    "from sklearn.feature_selection import mutual_info_regression"
   ]
  },
  {
   "cell_type": "code",
   "execution_count": 16,
   "metadata": {},
   "outputs": [],
   "source": [
    "feature_select_model = SelectKBest(score_func=mutual_info_regression, k=4)"
   ]
  },
  {
   "cell_type": "code",
   "execution_count": 18,
   "metadata": {},
   "outputs": [],
   "source": [
    "fit = feature_select_model.fit(X,Y)"
   ]
  },
  {
   "cell_type": "code",
   "execution_count": 21,
   "metadata": {},
   "outputs": [
    {
     "name": "stdout",
     "output_type": "stream",
     "text": [
      "['Ship Mode', 'Segment', 'City', 'State', 'Postal Code', 'Region', 'Category', 'Sub-Category', 'Product Name', 'Quantity', 'Discount', 'Profit']\n",
      "[0.00242372 0.         0.03756178 0.05628401 0.02640506 0.0272077\n",
      " 0.28404895 0.67402408 0.56463139 0.45279909 0.30105672 1.97313199]\n"
     ]
    }
   ],
   "source": [
    "print(feature_cols)\n",
    "print(fit.scores_)"
   ]
  },
  {
   "cell_type": "code",
   "execution_count": 22,
   "metadata": {},
   "outputs": [],
   "source": [
    "superstore_encoded['ProfitPercent'] = round(superstore_encoded.Profit/superstore_encoded.Sales,2)"
   ]
  },
  {
   "cell_type": "code",
   "execution_count": 23,
   "metadata": {},
   "outputs": [],
   "source": [
    "feature_cols = ['Ship Mode', 'Segment', 'City', 'State', 'Postal Code',\n",
    "       'Region', 'Category', 'Sub-Category', 'Product Name',\n",
    "       'Quantity', 'Discount', 'Profit', 'ProfitPercent']"
   ]
  },
  {
   "cell_type": "code",
   "execution_count": 24,
   "metadata": {},
   "outputs": [],
   "source": [
    "X = superstore_encoded[feature_cols]\n",
    "Y = superstore_encoded.Sales"
   ]
  },
  {
   "cell_type": "code",
   "execution_count": 25,
   "metadata": {},
   "outputs": [],
   "source": [
    "feature_select_model = SelectKBest(score_func=mutual_info_regression, k=4)"
   ]
  },
  {
   "cell_type": "code",
   "execution_count": 26,
   "metadata": {},
   "outputs": [],
   "source": [
    "fit = feature_select_model.fit(X,Y)"
   ]
  },
  {
   "cell_type": "code",
   "execution_count": 27,
   "metadata": {},
   "outputs": [
    {
     "name": "stdout",
     "output_type": "stream",
     "text": [
      "['Ship Mode', 'Segment', 'City', 'State', 'Postal Code', 'Region', 'Category', 'Sub-Category', 'Product Name', 'Quantity', 'Discount', 'Profit', 'ProfitPercent']\n",
      "[0.00327717 0.         0.03720552 0.05715258 0.02559766 0.02919882\n",
      " 0.2894434  0.67896015 0.56458765 0.45376331 0.29594562 1.97130383\n",
      " 0.53504188]\n"
     ]
    }
   ],
   "source": [
    "print(feature_cols)\n",
    "print(fit.scores_)"
   ]
  },
  {
   "cell_type": "code",
   "execution_count": null,
   "metadata": {},
   "outputs": [],
   "source": []
  }
 ],
 "metadata": {
  "kernelspec": {
   "display_name": "Python 3",
   "language": "python",
   "name": "python3"
  },
  "language_info": {
   "codemirror_mode": {
    "name": "ipython",
    "version": 3
   },
   "file_extension": ".py",
   "mimetype": "text/x-python",
   "name": "python",
   "nbconvert_exporter": "python",
   "pygments_lexer": "ipython3",
   "version": "3.8.3"
  }
 },
 "nbformat": 4,
 "nbformat_minor": 4
}
